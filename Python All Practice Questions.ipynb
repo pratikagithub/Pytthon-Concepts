{
 "cells": [
  {
   "cell_type": "markdown",
   "id": "a2d315cb",
   "metadata": {},
   "source": [
    "### 1. String Manipulation and Parsing"
   ]
  },
  {
   "cell_type": "markdown",
   "id": "39eaaa1b",
   "metadata": {},
   "source": [
    "### a. Transpose Matrix "
   ]
  },
  {
   "cell_type": "code",
   "execution_count": 1,
   "id": "7060f307",
   "metadata": {},
   "outputs": [
    {
     "name": "stdout",
     "output_type": "stream",
     "text": [
      "[[1, 4, 7], [2, 5, 8], [3, 6, 9]]\n"
     ]
    }
   ],
   "source": [
    "def transpose(matrix):\n",
    "    n = len(matrix)\n",
    "    m = len(matrix[0])\n",
    "\n",
    "    transposed = [[0 for j in range(n)] for i in range(m)]\n",
    "\n",
    "    for i in range(n):\n",
    "        for j in range(m):\n",
    "            transposed[j][i] = matrix[i][j]\n",
    "\n",
    "    return transposed\n",
    "\n",
    "matrix = [[1,2,3],[4,5,6],[7,8,9]]\n",
    "print(transpose(matrix))"
   ]
  },
  {
   "cell_type": "markdown",
   "id": "23183141",
   "metadata": {},
   "source": [
    "### b. Buddy Strings"
   ]
  },
  {
   "cell_type": "code",
   "execution_count": 2,
   "id": "2c686f0d",
   "metadata": {},
   "outputs": [
    {
     "name": "stdout",
     "output_type": "stream",
     "text": [
      "True\n"
     ]
    }
   ],
   "source": [
    "def buddyStrings(s,goal):\n",
    "    if len(s)!=len(goal):\n",
    "        return false\n",
    "    if s==goal:\n",
    "        return len(set(s))<len(s)\n",
    "    diffs=[(a,b)for a,b in zip (s,goal)if a!=b]\n",
    "    return len(diffs)==2 and diffs[0]==diffs[1][::-1]\n",
    "s=\"ab\"\n",
    "goal=\"ba\"\n",
    "print(buddyStrings(s,goal))"
   ]
  },
  {
   "cell_type": "markdown",
   "id": "9a1458ad",
   "metadata": {},
   "source": [
    "### c. Finding Uncommon words from two sentences"
   ]
  },
  {
   "cell_type": "code",
   "execution_count": 3,
   "id": "028b323f",
   "metadata": {},
   "outputs": [
    {
     "name": "stdout",
     "output_type": "stream",
     "text": [
      "['sweet', 'sour']\n"
     ]
    }
   ],
   "source": [
    "def uncommonFromSentences(S1, S2):\n",
    "    words1 = S1.split()\n",
    "    words2 = S2.split()\n",
    "    \n",
    "    counts = {}\n",
    "    for word in words1 + words2:\n",
    "        counts[word] = counts.get(word, 0) + 1\n",
    "        \n",
    "    uncommon = [word for word in counts if counts[word] == 1]\n",
    "    return uncommon\n",
    "    \n",
    "S1 = \"this apple is sweet\"\n",
    "S2 = \"this apple is sour\"\n",
    "print(uncommonFromSentences(S1, S2))"
   ]
  },
  {
   "cell_type": "markdown",
   "id": "d2cc061e",
   "metadata": {},
   "source": [
    "### d. Detect Capital "
   ]
  },
  {
   "cell_type": "code",
   "execution_count": 4,
   "id": "02baf663",
   "metadata": {},
   "outputs": [
    {
     "name": "stdout",
     "output_type": "stream",
     "text": [
      "True\n"
     ]
    }
   ],
   "source": [
    "def detectCapitalUse(word):\n",
    "    if word.isupper():\n",
    "        return True\n",
    "    elif word.islower():\n",
    "        return True\n",
    "    elif word.istitle():\n",
    "        return True\n",
    "    else:\n",
    "        return False\n",
    "print(detectCapitalUse(\"USA\"))\n",
    "        "
   ]
  },
  {
   "cell_type": "markdown",
   "id": "4873fefe",
   "metadata": {},
   "source": [
    "### e. Repeated Substring Pattern Problem"
   ]
  },
  {
   "cell_type": "code",
   "execution_count": 5,
   "id": "a97e9589",
   "metadata": {},
   "outputs": [
    {
     "name": "stdout",
     "output_type": "stream",
     "text": [
      "True\n"
     ]
    }
   ],
   "source": [
    "def repeatedSubstringPattern(s):\n",
    "    string=(s+s)[1:-1]\n",
    "    return string.find(s)!=-1\n",
    "print(repeatedSubstringPattern(\"abcabcabcabc\"))"
   ]
  },
  {
   "cell_type": "markdown",
   "id": "7d915532",
   "metadata": {},
   "source": [
    "### f. First Unique Character in a String"
   ]
  },
  {
   "cell_type": "code",
   "execution_count": 6,
   "id": "77c634b6",
   "metadata": {},
   "outputs": [
    {
     "name": "stdout",
     "output_type": "stream",
     "text": [
      "1\n"
     ]
    }
   ],
   "source": [
    "def firstUniqueChar(s):\n",
    "    from collections import Counter\n",
    "    count = Counter(s)\n",
    "    for i , j in enumerate(s):\n",
    "        if count[j] == 1:\n",
    "            return i\n",
    "    else:\n",
    "        return -1\n",
    "    \n",
    "print(firstUniqueChar(\"amankharwal\"))"
   ]
  },
  {
   "cell_type": "markdown",
   "id": "4d3da690",
   "metadata": {},
   "source": [
    "### g. License Key Formatting"
   ]
  },
  {
   "cell_type": "code",
   "execution_count": 7,
   "id": "80f0761a",
   "metadata": {},
   "outputs": [
    {
     "name": "stdout",
     "output_type": "stream",
     "text": [
      "24-A0R-74K\n"
     ]
    }
   ],
   "source": [
    "def licenseKeyFormatting(s, k):\n",
    "    s = s.upper().replace('-', '')\n",
    "    size = len(s)\n",
    "    s = s[::-1]\n",
    "    res = []\n",
    "    for i in range(0, size, k):\n",
    "        res.append(s[i:i+k])\n",
    "    return '-'.join(res)[::-1] \n",
    "    \n",
    "print(licenseKeyFormatting(\"2-4A0r7-4k\", 3))"
   ]
  },
  {
   "cell_type": "markdown",
   "id": "42bd95ed",
   "metadata": {},
   "source": [
    "### h. Number of Segments in a string "
   ]
  },
  {
   "cell_type": "code",
   "execution_count": 8,
   "id": "72ea354d",
   "metadata": {},
   "outputs": [
    {
     "name": "stdout",
     "output_type": "stream",
     "text": [
      "6\n"
     ]
    }
   ],
   "source": [
    "def countSegments(s):\n",
    "    count = len(s.split())\n",
    "    return count\n",
    "\n",
    "print(countSegments(\"Hey, my Instagram username is pratikachauhan\"))"
   ]
  },
  {
   "cell_type": "markdown",
   "id": "bf91c457",
   "metadata": {},
   "source": [
    "### i. Reverse a String"
   ]
  },
  {
   "cell_type": "code",
   "execution_count": 9,
   "id": "502203ad",
   "metadata": {},
   "outputs": [
    {
     "name": "stdout",
     "output_type": "stream",
     "text": [
      "Aman Kharwal\n"
     ]
    }
   ],
   "source": [
    "def reverse_string(string):\n",
    "    return string[::-1]\n",
    "\n",
    "a = \"lawrahK namA\"\n",
    "print(reverse_string(a))"
   ]
  },
  {
   "cell_type": "markdown",
   "id": "56c1008e",
   "metadata": {},
   "source": [
    "### j. Validate Palindrome Words "
   ]
  },
  {
   "cell_type": "code",
   "execution_count": 10,
   "id": "7fdadcf7",
   "metadata": {},
   "outputs": [
    {
     "name": "stdout",
     "output_type": "stream",
     "text": [
      "True\n"
     ]
    }
   ],
   "source": [
    "def ispalindrome(x):\n",
    "    x = x.lower()\n",
    "    text = \"\"\n",
    "    for i in range(len(x)):\n",
    "        if x[i].isalnum():\n",
    "            text = text+x[i]\n",
    "    return text == text[::-1]\n",
    "\n",
    "print(ispalindrome(\"A man, a plan, a canal:Panama\"))"
   ]
  },
  {
   "cell_type": "markdown",
   "id": "88d68e74",
   "metadata": {},
   "source": [
    "### k. Excel sheet column title "
   ]
  },
  {
   "cell_type": "code",
   "execution_count": 11,
   "id": "c02bda58",
   "metadata": {},
   "outputs": [
    {
     "name": "stdout",
     "output_type": "stream",
     "text": [
      "AB\n"
     ]
    }
   ],
   "source": [
    "def convertToTitle(n):\n",
    "    title = \"\"\n",
    "    while n:\n",
    "        n = n-1\n",
    "        title = chr(n%26 + 65) + title\n",
    "        n = n//26\n",
    "    return title\n",
    "\n",
    "print(convertToTitle(28))"
   ]
  },
  {
   "cell_type": "markdown",
   "id": "c234f9b8",
   "metadata": {},
   "source": [
    "### l. Group Anagrams "
   ]
  },
  {
   "cell_type": "code",
   "execution_count": 12,
   "id": "0cc53fbc",
   "metadata": {},
   "outputs": [
    {
     "name": "stdout",
     "output_type": "stream",
     "text": [
      "dict_values([['tea', 'eat', 'ate'], ['bat'], ['arc', 'car']])\n"
     ]
    }
   ],
   "source": [
    "from collections import defaultdict\n",
    "\n",
    "def group_anagrams(a):\n",
    "    dfdict=defaultdict(list)\n",
    "    for i in a:\n",
    "        sorted_i=\" \".join(sorted(i))\n",
    "        dfdict[sorted_i].append(i)\n",
    "    return dfdict.values()\n",
    "\n",
    "words=[\"tea\",\"eat\",\"bat\",\"ate\",\"arc\",\"car\"]\n",
    "print(group_anagrams(words))"
   ]
  },
  {
   "cell_type": "markdown",
   "id": "6c72b3bd",
   "metadata": {},
   "source": [
    "### 2. Array and List Operations "
   ]
  },
  {
   "cell_type": "markdown",
   "id": "9aacae44",
   "metadata": {},
   "source": [
    "### a. Set Mismatch "
   ]
  },
  {
   "cell_type": "code",
   "execution_count": 13,
   "id": "ace563f2",
   "metadata": {},
   "outputs": [
    {
     "name": "stdout",
     "output_type": "stream",
     "text": [
      "[2, 3]\n"
     ]
    }
   ],
   "source": [
    "def findErrorNums(nums):\n",
    "    n = len(nums)\n",
    "    duplicate = -1\n",
    "    for num in nums:\n",
    "        if nums[abs(num)-1]<0:\n",
    "            duplicate = abs(num)\n",
    "        else:\n",
    "            nums[abs(num)-1] *= -1\n",
    "    missing = -1\n",
    "    for i in range(n):\n",
    "        if nums[i]>0:\n",
    "            missing = i+1\n",
    "    return[duplicate, missing]\n",
    "        \n",
    "nums=[1,2,2,4]\n",
    "print(findErrorNums(nums))"
   ]
  },
  {
   "cell_type": "markdown",
   "id": "cf8da177",
   "metadata": {},
   "source": [
    "### b. Assign cookies "
   ]
  },
  {
   "cell_type": "code",
   "execution_count": 14,
   "id": "e80abfa0",
   "metadata": {},
   "outputs": [
    {
     "name": "stdout",
     "output_type": "stream",
     "text": [
      "1\n"
     ]
    }
   ],
   "source": [
    "def findContentChildren(g,s):\n",
    "    i=0\n",
    "    j=0\n",
    "    g=sorted(g)\n",
    "    s=sorted(s)\n",
    "    while i < len(g) and j < len(s):\n",
    "        i+=g[i]<=s[i]\n",
    "        j=j+1\n",
    "    return i\n",
    "    \n",
    "g=[1,2,3]\n",
    "s=[1,1]\n",
    "print(findContentChildren(g,s))"
   ]
  },
  {
   "cell_type": "markdown",
   "id": "a05360b4",
   "metadata": {},
   "source": [
    "### c. Reorder Routes "
   ]
  },
  {
   "cell_type": "code",
   "execution_count": 15,
   "id": "fb357e29",
   "metadata": {},
   "outputs": [
    {
     "name": "stdout",
     "output_type": "stream",
     "text": [
      "3\n"
     ]
    }
   ],
   "source": [
    "from collections import defaultdict\n",
    "def minReorder(n, connections):\n",
    "    graph = defaultdict(list)\n",
    "    for u, v in connections:\n",
    "        graph[u].append((v, 1))\n",
    "        graph[v].append((u, 0))\n",
    "    def dfs(node):\n",
    "        nonlocal total\n",
    "        visited.add(node)\n",
    "        for neighbor, cost in graph[node]:\n",
    "            if neighbor not in visited:\n",
    "                total += cost\n",
    "                dfs(neighbor)\n",
    "    total = 0\n",
    "    visited = set()\n",
    "    dfs(0)\n",
    "    return total\n",
    "\n",
    "n=6\n",
    "connections=[[0,1],[1,3],[2,3],[4,0],[4,5]]\n",
    "print(minReorder(n, connections))"
   ]
  },
  {
   "cell_type": "markdown",
   "id": "d9038d73",
   "metadata": {},
   "source": [
    "### d. Hamming Distance "
   ]
  },
  {
   "cell_type": "code",
   "execution_count": 16,
   "id": "1eb5645d",
   "metadata": {},
   "outputs": [
    {
     "name": "stdout",
     "output_type": "stream",
     "text": [
      "2\n"
     ]
    }
   ],
   "source": [
    "def hammingDistance(x, y):\n",
    "    xor = x^y\n",
    "    dist = 0\n",
    "    while xor:\n",
    "        dist += 1\n",
    "        xor &= xor-1\n",
    "    return dist\n",
    "\n",
    "x = 1\n",
    "y = 4\n",
    "print(hammingDistance(x, y))\n",
    "    "
   ]
  },
  {
   "cell_type": "markdown",
   "id": "09a329a8",
   "metadata": {},
   "source": [
    "### e. Max Consecutive ones "
   ]
  },
  {
   "cell_type": "code",
   "execution_count": 17,
   "id": "87d265dc",
   "metadata": {},
   "outputs": [
    {
     "name": "stdout",
     "output_type": "stream",
     "text": [
      "3\n"
     ]
    }
   ],
   "source": [
    "def findMaxConsecutiveOnes(nums):\n",
    "    max_count=0\n",
    "    count=0\n",
    "    for i in nums:\n",
    "        if i == 1:\n",
    "            count +=1\n",
    "        else:\n",
    "            max_count=max(max_count, count)\n",
    "            count = 0\n",
    "    return max(max_count, count)\n",
    "\n",
    "nums=[1,1,0,1,1,1]\n",
    "print(findMaxConsecutiveOnes(nums))"
   ]
  },
  {
   "cell_type": "markdown",
   "id": "c5a53dc5",
   "metadata": {},
   "source": [
    "### f. Third Maximum Number "
   ]
  },
  {
   "cell_type": "code",
   "execution_count": 18,
   "id": "0ceb1794",
   "metadata": {},
   "outputs": [
    {
     "name": "stdout",
     "output_type": "stream",
     "text": [
      "30\n"
     ]
    }
   ],
   "source": [
    "def thirdMax(nums):\n",
    "    nums.sort(reverse=True)\n",
    "    count=1\n",
    "    previous=nums[0]\n",
    "    for i in range(len(nums)):\n",
    "        if nums[i]!=previous:\n",
    "            count=count+1\n",
    "            previous=nums[i]\n",
    "        if count==3:\n",
    "            return nums[i]\n",
    "        return nums[0]\n",
    "    \n",
    "nums = [10,2,4,5,6,29,1,7,5,4,11,30]\n",
    "print(thirdMax(nums))"
   ]
  },
  {
   "cell_type": "markdown",
   "id": "8e61d52f",
   "metadata": {},
   "source": [
    "### g. Move Zeroes "
   ]
  },
  {
   "cell_type": "code",
   "execution_count": 19,
   "id": "924c8ec1",
   "metadata": {},
   "outputs": [
    {
     "name": "stdout",
     "output_type": "stream",
     "text": [
      "[1, 3, 12, 0, 0]\n"
     ]
    }
   ],
   "source": [
    "def moveZeroes(nums):\n",
    "    zeroes = 0\n",
    "    for i in range(len(nums)):\n",
    "        if nums[i] > 0:\n",
    "            nums[zeroes], nums[i] = nums[i], nums[zeroes]\n",
    "            zeroes = zeroes+1\n",
    "    return nums\n",
    "\n",
    "nums = [0,1,0,3,12]\n",
    "print(moveZeroes(nums))"
   ]
  },
  {
   "cell_type": "markdown",
   "id": "d6574bb8",
   "metadata": {},
   "source": [
    "### h. Find Duplicate values "
   ]
  },
  {
   "cell_type": "code",
   "execution_count": 20,
   "id": "2e711d2a",
   "metadata": {},
   "outputs": [
    {
     "name": "stdout",
     "output_type": "stream",
     "text": [
      "['Aman', 'Akansha']\n"
     ]
    }
   ],
   "source": [
    "def find_duplicates(x):\n",
    "    length = len(x)\n",
    "    duplicates = []\n",
    "    for i in range(length):\n",
    "        n = i+1\n",
    "        for a in range(n, length):\n",
    "            if x[i] == x[a] and x[i] not in duplicates:\n",
    "                duplicates.append(x[i])\n",
    "    return duplicates\n",
    "names = [\"Aman\", \"Akansha\", \"Divyansha\", \"Devyansh\", \"Aman\", \"Diksha\", \"Akansha\"]\n",
    "print(find_duplicates(names))"
   ]
  },
  {
   "cell_type": "markdown",
   "id": "749449e7",
   "metadata": {},
   "source": [
    "### j. Remove Duplicates From a sorted Array "
   ]
  },
  {
   "cell_type": "code",
   "execution_count": 21,
   "id": "d125ee3f",
   "metadata": {},
   "outputs": [
    {
     "name": "stdout",
     "output_type": "stream",
     "text": [
      "[0, 1, 2, 3, 4]\n"
     ]
    }
   ],
   "source": [
    "def removeDuplicate(items):\n",
    "    list1=[]\n",
    "    for i in items:\n",
    "        if i not in list1:\n",
    "            list1.append(i)\n",
    "    return list1\n",
    "\n",
    "nums=[0,0,1,1,1,2,2,3,3,4]\n",
    "print(removeDuplicate(nums))"
   ]
  },
  {
   "cell_type": "markdown",
   "id": "70909767",
   "metadata": {},
   "source": [
    "### k. Pascal's Triangle "
   ]
  },
  {
   "cell_type": "code",
   "execution_count": 22,
   "id": "9ffc832d",
   "metadata": {},
   "outputs": [
    {
     "name": "stdout",
     "output_type": "stream",
     "text": [
      "[[1], [1, 1], [1, 2, 1], [1, 3, 3, 1], [1, 4, 6, 4, 1]]\n"
     ]
    }
   ],
   "source": [
    "def generate(numRows):\n",
    "    triangle = [[1]]\n",
    "    row = 0\n",
    "    while numRows > len(triangle):\n",
    "        row = row + 1\n",
    "        triangle.append([1] * (row + 1))\n",
    "        for i in range(1, row):\n",
    "            triangle[row][i]=triangle[row - 1][i - 1] + triangle[row -1][i]\n",
    "    return triangle\n",
    "\n",
    "print(generate(5))"
   ]
  },
  {
   "cell_type": "markdown",
   "id": "c81f013a",
   "metadata": {},
   "source": [
    "### l. Majority Element "
   ]
  },
  {
   "cell_type": "code",
   "execution_count": 23,
   "id": "d676f496",
   "metadata": {},
   "outputs": [
    {
     "name": "stdout",
     "output_type": "stream",
     "text": [
      "2\n"
     ]
    }
   ],
   "source": [
    "def majorityElement(nums):\n",
    "    count = 0\n",
    "    major_element = 0\n",
    "    for i in nums:\n",
    "        if count == 0:\n",
    "            major_element = i\n",
    "        if major_element == i:\n",
    "            count = count + 1\n",
    "        else:\n",
    "            count = count - 1\n",
    "    return major_element\n",
    "\n",
    "nums = [2,2,1,1,1,2,2]\n",
    "print(majorityElement(nums))"
   ]
  },
  {
   "cell_type": "markdown",
   "id": "fa0e800d",
   "metadata": {},
   "source": [
    "### m. Single Numbers "
   ]
  },
  {
   "cell_type": "code",
   "execution_count": 24,
   "id": "dfb5e67d",
   "metadata": {},
   "outputs": [
    {
     "name": "stdout",
     "output_type": "stream",
     "text": [
      "4\n"
     ]
    }
   ],
   "source": [
    "def singleNumber(nums):\n",
    "    count = 0\n",
    "    for i in nums:\n",
    "        count = count^i\n",
    "    return count\n",
    "\n",
    "nums=[4,1,2,1,2]\n",
    "print(singleNumber(nums))"
   ]
  },
  {
   "cell_type": "markdown",
   "id": "8cd93c79",
   "metadata": {},
   "source": [
    "### n. Two Sums "
   ]
  },
  {
   "cell_type": "code",
   "execution_count": 25,
   "id": "2a903bb6",
   "metadata": {},
   "outputs": [
    {
     "name": "stdout",
     "output_type": "stream",
     "text": [
      "[0, 3]\n"
     ]
    }
   ],
   "source": [
    "def twosum(nums, target):\n",
    "    length = len(nums)\n",
    "    for i in range(length):\n",
    "        for j in range(i + 1, length):\n",
    "            if nums[i] + nums[j] == target:\n",
    "                return [i, j]\n",
    "\n",
    "n=[3,1,1,2]\n",
    "t=5\n",
    "print(twosum(n, t))"
   ]
  },
  {
   "cell_type": "markdown",
   "id": "6591bd56",
   "metadata": {},
   "source": [
    "### o. Plus One Problem"
   ]
  },
  {
   "cell_type": "code",
   "execution_count": 26,
   "id": "af2b0e5a",
   "metadata": {},
   "outputs": [
    {
     "name": "stdout",
     "output_type": "stream",
     "text": [
      "[1, 2, 5, 8]\n"
     ]
    }
   ],
   "source": [
    "def plusOne(digits):\n",
    "    n=len(digits) - 1\n",
    "    while digits[n] == 9:\n",
    "        digits[n] = 0\n",
    "        n = n-1\n",
    "    if n < 0:\n",
    "        digits = [1] + digits\n",
    "    else:\n",
    "        digits[n] = digits[n] + 1\n",
    "    return digits\n",
    "\n",
    "digits = [1,2,5,7]\n",
    "print(plusOne(digits))"
   ]
  },
  {
   "cell_type": "markdown",
   "id": "75f12a7d",
   "metadata": {},
   "source": [
    "### p. Merge two Sorted Lists "
   ]
  },
  {
   "cell_type": "code",
   "execution_count": 27,
   "id": "b95ee733",
   "metadata": {},
   "outputs": [
    {
     "name": "stdout",
     "output_type": "stream",
     "text": [
      "[1, 2, 3, 4, 5, 6, 7, 8, 9, 10]\n"
     ]
    }
   ],
   "source": [
    "def merge2Lists(i, j):\n",
    "    mergedlist = []\n",
    "    while(i and j):\n",
    "        if(i[0] <= j[0]):\n",
    "            item = i.pop(0)\n",
    "            mergedlist.append(item)\n",
    "        else:\n",
    "            item = j.pop(0)\n",
    "            mergedlist.append(item)\n",
    "    mergedlist.extend(i if i else j)\n",
    "    return mergedlist\n",
    "\n",
    "list1 = [1,3,5,7,9]\n",
    "list2 = [2,4,6,8,10]\n",
    "\n",
    "print(merge2Lists(list1, list2))"
   ]
  },
  {
   "cell_type": "markdown",
   "id": "24594a69",
   "metadata": {},
   "source": [
    "### q. Group Elements of Same Indices "
   ]
  },
  {
   "cell_type": "code",
   "execution_count": 28,
   "id": "df00fea9",
   "metadata": {},
   "outputs": [
    {
     "name": "stdout",
     "output_type": "stream",
     "text": [
      "[10, 40, 70] [20, 50, 80] [30, 60, 90]\n"
     ]
    }
   ],
   "source": [
    "inputLists = [[10, 20, 30], [40, 50, 60], [70, 80, 90]]\n",
    "outputLists = []\n",
    "index = 0\n",
    "\n",
    "for i in range(len(inputLists[0])):\n",
    "    outputLists.append([])\n",
    "    for j in range(len(inputLists)):\n",
    "        outputLists[index].append(inputLists[j][index])\n",
    "    index = index + 1\n",
    "a, b, c = outputLists[0], outputLists[1], outputLists[2]\n",
    "print(a, b, c)"
   ]
  },
  {
   "cell_type": "markdown",
   "id": "a2db3a4f",
   "metadata": {},
   "source": [
    "### r. Index of Maximum value  "
   ]
  },
  {
   "cell_type": "code",
   "execution_count": 29,
   "id": "c2b63797",
   "metadata": {},
   "outputs": [
    {
     "name": "stdout",
     "output_type": "stream",
     "text": [
      "1\n"
     ]
    }
   ],
   "source": [
    "def maximum(x):\n",
    "    maximum_index = 0\n",
    "    current_index = 1\n",
    "    while current_index < len(x):\n",
    "        if x[current_index] > x[maximum_index]:\n",
    "            maximum_index = current_index\n",
    "        current_index = current_index + 1\n",
    "    return maximum_index\n",
    "a=[23, 76, 45, 20, 70, 65, 15, 54]\n",
    "print(maximum(a))"
   ]
  },
  {
   "cell_type": "markdown",
   "id": "32451d86",
   "metadata": {},
   "source": [
    "### s. Index of Minimum value "
   ]
  },
  {
   "cell_type": "code",
   "execution_count": 30,
   "id": "b3c27845",
   "metadata": {},
   "outputs": [
    {
     "name": "stdout",
     "output_type": "stream",
     "text": [
      "6\n"
     ]
    }
   ],
   "source": [
    "def minimum(x):\n",
    "    minimum_index = 0\n",
    "    current_index = 1\n",
    "    while current_index < len(x):\n",
    "        if x[current_index] < x[minimum_index]:\n",
    "            minimum_index = current_index\n",
    "        current_index = current_index + 1\n",
    "    return minimum_index\n",
    "b=[23, 76, 45, 20, 70, 65, 15, 54]\n",
    "print(minimum(b))"
   ]
  },
  {
   "cell_type": "markdown",
   "id": "e4a7f61e",
   "metadata": {},
   "source": [
    "### 3. Mathematical Problems "
   ]
  },
  {
   "cell_type": "markdown",
   "id": "fd816d50",
   "metadata": {},
   "source": [
    "### a. Counting Bits "
   ]
  },
  {
   "cell_type": "code",
   "execution_count": 31,
   "id": "58eefc0b",
   "metadata": {},
   "outputs": [
    {
     "name": "stdout",
     "output_type": "stream",
     "text": [
      "[0, 1, 1, 2, 1, 2]\n"
     ]
    }
   ],
   "source": [
    "def countBits(num):\n",
    "    counter = [0]\n",
    "    if num >= 1:\n",
    "        while len(counter) <= num:\n",
    "            counter = counter + [i + 1 for i in counter]\n",
    "        return counter[:num+1]\n",
    "    else:\n",
    "        return 0\n",
    "    \n",
    "print(countBits(5))"
   ]
  },
  {
   "cell_type": "markdown",
   "id": "413dfe7f",
   "metadata": {},
   "source": [
    "### b. Valid Perfect Square "
   ]
  },
  {
   "cell_type": "code",
   "execution_count": 32,
   "id": "700cdc99",
   "metadata": {},
   "outputs": [
    {
     "name": "stdout",
     "output_type": "stream",
     "text": [
      "True\n"
     ]
    }
   ],
   "source": [
    "def isPerfectSquare(num):\n",
    "    left = 1\n",
    "    right = num\n",
    "    \n",
    "    while left < right:\n",
    "        mid = (left + right) // 2\n",
    "        if mid * mid == num:\n",
    "            return True\n",
    "        \n",
    "        elif mid * mid <num:\n",
    "            left = mid + 1\n",
    "            \n",
    "        elif mid * mid > num:\n",
    "            right = mid\n",
    "    return False\n",
    "\n",
    "print(isPerfectSquare(49))"
   ]
  },
  {
   "cell_type": "markdown",
   "id": "87723e1b",
   "metadata": {},
   "source": [
    "### c. Check Perfect Number "
   ]
  },
  {
   "cell_type": "code",
   "execution_count": 33,
   "id": "b08d31fd",
   "metadata": {},
   "outputs": [
    {
     "name": "stdout",
     "output_type": "stream",
     "text": [
      "False\n"
     ]
    }
   ],
   "source": [
    "def checkPerfectNumber(num):\n",
    "    if num <=1:\n",
    "        return False\n",
    "    div_sum = 1\n",
    "    i=2\n",
    "    \n",
    "    #check divisors up to square root of num\n",
    "    while i*i <= num:\n",
    "        if num % i == 0:\n",
    "            div_sum += num//i\n",
    "            if i != num//i:\n",
    "                div_sum += num//i\n",
    "        i += 1\n",
    "    #check if num is a perfect number\n",
    "    if div_sum == num:\n",
    "        return True\n",
    "    else:\n",
    "        return False\n",
    "print(checkPerfectNumber(28))"
   ]
  },
  {
   "cell_type": "markdown",
   "id": "9921eb6f",
   "metadata": {},
   "source": [
    "### d. Power of Three "
   ]
  },
  {
   "cell_type": "code",
   "execution_count": 34,
   "id": "587c876c",
   "metadata": {},
   "outputs": [
    {
     "name": "stdout",
     "output_type": "stream",
     "text": [
      "True\n"
     ]
    }
   ],
   "source": [
    "def isPowerOfThree(n):\n",
    "    while (n != 1):\n",
    "        if (n % 3 != 0):\n",
    "            return False\n",
    "        n = n // 3\n",
    "    else:\n",
    "        return True\n",
    "    \n",
    "print(isPowerOfThree(27))"
   ]
  },
  {
   "cell_type": "markdown",
   "id": "802972dd",
   "metadata": {},
   "source": [
    "### e. Ugly Number "
   ]
  },
  {
   "cell_type": "code",
   "execution_count": 48,
   "id": "dd564222",
   "metadata": {},
   "outputs": [
    {
     "name": "stdout",
     "output_type": "stream",
     "text": [
      "True\n"
     ]
    }
   ],
   "source": [
    "def isUgly(n):\n",
    "    if n > 0:\n",
    "        factors = [2, 3, 5]\n",
    "        for i in factors:\n",
    "            while n % i == 0:\n",
    "                n = n // i\n",
    "        return n == 1\n",
    "    else:\n",
    "        return 0\n",
    "\n",
    "print(isUgly(6))"
   ]
  },
  {
   "cell_type": "markdown",
   "id": "ad96285c",
   "metadata": {},
   "source": [
    "### f. Add Digits "
   ]
  },
  {
   "cell_type": "code",
   "execution_count": 45,
   "id": "cb9d9632",
   "metadata": {},
   "outputs": [
    {
     "name": "stdout",
     "output_type": "stream",
     "text": [
      "2\n"
     ]
    }
   ],
   "source": [
    "def addDigits(num):\n",
    "    while num > 9:\n",
    "        num = (num % 10) + (num // 10)\n",
    "    return num\n",
    "\n",
    "print(addDigits(38))"
   ]
  },
  {
   "cell_type": "markdown",
   "id": "2bd718dd",
   "metadata": {},
   "source": [
    "### g. Power of Two "
   ]
  },
  {
   "cell_type": "code",
   "execution_count": 44,
   "id": "0a366eae",
   "metadata": {},
   "outputs": [
    {
     "name": "stdout",
     "output_type": "stream",
     "text": [
      "True\n"
     ]
    }
   ],
   "source": [
    "def isPowerOfTwo(n):\n",
    "    while (n != 1):\n",
    "        if (n % 2 != 0):\n",
    "            return False\n",
    "        n = n // 2\n",
    "    else:\n",
    "        return True\n",
    "print(isPowerOfTwo(16))"
   ]
  },
  {
   "cell_type": "markdown",
   "id": "d988ff9a",
   "metadata": {},
   "source": [
    "### h. Square Root "
   ]
  },
  {
   "cell_type": "code",
   "execution_count": 43,
   "id": "7a4d47e6",
   "metadata": {},
   "outputs": [
    {
     "name": "stdout",
     "output_type": "stream",
     "text": [
      "5\n"
     ]
    }
   ],
   "source": [
    "def mySqrt(x):\n",
    "    left = 1\n",
    "    right = x\n",
    "    mid = 0\n",
    "    while (left <= right):\n",
    "        mid = (left + right) // 2\n",
    "        if mid * mid == x:\n",
    "            return mid\n",
    "        elif mid * mid > x:\n",
    "            right = mid - 1\n",
    "        else:\n",
    "            left = mid + 1\n",
    "            sqrt = mid\n",
    "    return sqrt\n",
    "\n",
    "print(mySqrt(25))"
   ]
  },
  {
   "cell_type": "markdown",
   "id": "66405c02",
   "metadata": {},
   "source": [
    "### i. Calculate Distance Between Two Locations "
   ]
  },
  {
   "cell_type": "code",
   "execution_count": 47,
   "id": "df8b1be2",
   "metadata": {},
   "outputs": [
    {
     "name": "stdout",
     "output_type": "stream",
     "text": [
      "3.0251492856773803\n"
     ]
    }
   ],
   "source": [
    "import numpy as np\n",
    "# set the earth's radius (in kilometers)\n",
    "r = 6371\n",
    "\n",
    "#convert degrees to radians\n",
    "def deg_to_rad(degrees):\n",
    "    return degrees * (np.pi/180)\n",
    "\n",
    "#Function to calculate the distance between two points\n",
    "# using the haversine formula\n",
    "def distcalculate(lat1, lon1, lat2, lon2):\n",
    "    d_lat = deg_to_rad(lat2-lat1)\n",
    "    d_lon = deg_to_rad(lon2-lon1)\n",
    "    a = np.sin(d_lat/2)**2 + np.cos(deg_to_rad(lat1)) * np.cos(deg_to_rad(lat2)) * np.sin(d_lon/2)**2\n",
    "    c = 2 * np.arctan2(np.sqrt(a), np.sqrt(1-a))\n",
    "    return r * c\n",
    "print(distcalculate(22.745049, 75.892471, 22.765049, 75.912471))"
   ]
  },
  {
   "cell_type": "markdown",
   "id": "f925087e",
   "metadata": {},
   "source": [
    "### 4. Searching and Sorting "
   ]
  },
  {
   "cell_type": "markdown",
   "id": "6f3fb914",
   "metadata": {},
   "source": [
    "### a. Binary Search "
   ]
  },
  {
   "cell_type": "code",
   "execution_count": 41,
   "id": "e52fde0e",
   "metadata": {},
   "outputs": [
    {
     "name": "stdout",
     "output_type": "stream",
     "text": [
      "4\n"
     ]
    }
   ],
   "source": [
    "def search(nums, target):\n",
    "    low = 0\n",
    "    high = len(nums) - 1\n",
    "    \n",
    "    while low <= high:\n",
    "        mid = (low + high) // 2\n",
    "        if nums[mid] == target:\n",
    "            return mid\n",
    "        elif nums[mid] < target:\n",
    "            low = mid + 1\n",
    "        else:\n",
    "            high = mid - 1\n",
    "    return -1\n",
    "\n",
    "nums = [-1,0,3,5,9,12]\n",
    "target = 9\n",
    "\n",
    "print(search(nums, target))\n",
    "        "
   ]
  },
  {
   "cell_type": "markdown",
   "id": "3ea21158",
   "metadata": {},
   "source": [
    "### b. Find Missing Numbers "
   ]
  },
  {
   "cell_type": "code",
   "execution_count": 40,
   "id": "b012e263",
   "metadata": {},
   "outputs": [
    {
     "name": "stdout",
     "output_type": "stream",
     "text": [
      "[4, 12, 15]\n"
     ]
    }
   ],
   "source": [
    "def findMissingNumbers(n):\n",
    "    numbers = set(n)\n",
    "    length = len(n)\n",
    "    output = []\n",
    "    for i in range(1, n[-1]):\n",
    "        if i not in numbers:\n",
    "            output.append(i)\n",
    "    return output\n",
    "\n",
    "listOfNumbers = [1,2,3,5,6,7,8,9,10,11,13,14,16]\n",
    "print(findMissingNumbers(listOfNumbers))"
   ]
  },
  {
   "cell_type": "markdown",
   "id": "a654575a",
   "metadata": {},
   "source": [
    "### c. Best time to Buy and Sell Stock "
   ]
  },
  {
   "cell_type": "code",
   "execution_count": 39,
   "id": "c4323a12",
   "metadata": {},
   "outputs": [
    {
     "name": "stdout",
     "output_type": "stream",
     "text": [
      "5\n"
     ]
    }
   ],
   "source": [
    "def maxProfit(prices):\n",
    "    buy = 0\n",
    "    sell = 1\n",
    "    max_profit = 0\n",
    "    while sell < len(prices):\n",
    "        if prices[sell] > prices[buy]:\n",
    "            profit = prices[sell] - prices[buy]\n",
    "            max_profit = max(profit, max_profit)\n",
    "        else:\n",
    "            buy = sell\n",
    "        sell = sell + 1\n",
    "    return max_profit\n",
    "\n",
    "prices = [7,1,5,3,6,4]\n",
    "print(maxProfit(prices))\n",
    "        "
   ]
  },
  {
   "cell_type": "markdown",
   "id": "0e5e4073",
   "metadata": {},
   "source": [
    "### d. Climbing Stairs "
   ]
  },
  {
   "cell_type": "code",
   "execution_count": 38,
   "id": "05cc1e2c",
   "metadata": {},
   "outputs": [
    {
     "name": "stdout",
     "output_type": "stream",
     "text": [
      "5\n"
     ]
    }
   ],
   "source": [
    "def climbStairs(num):\n",
    "    a = 1\n",
    "    b = 1\n",
    "    n = num - 1\n",
    "    for i in range(n):\n",
    "        c = a\n",
    "        a = a + b\n",
    "        b = c\n",
    "    return a\n",
    "\n",
    "print(climbStairs(4))"
   ]
  },
  {
   "cell_type": "markdown",
   "id": "e73527cf",
   "metadata": {},
   "source": [
    "### e. Relative Ranks "
   ]
  },
  {
   "cell_type": "code",
   "execution_count": 37,
   "id": "c0ece9e8",
   "metadata": {},
   "outputs": [
    {
     "name": "stdout",
     "output_type": "stream",
     "text": [
      "['Gold Medal', 'Silver Medal', 'Bronze Medal', '4', '5']\n"
     ]
    }
   ],
   "source": [
    "def findRelativeRanks(scores):\n",
    "    sorted_nums = sorted(scores, reverse = True)\n",
    "    ranks = {}\n",
    "    for i, j in enumerate(sorted_nums):\n",
    "        if i == 0:\n",
    "            ranks[j] =\"Gold Medal\"\n",
    "        elif i == 1:\n",
    "            ranks[j] = \"Silver Medal\"\n",
    "        elif i == 2:\n",
    "            ranks[j] = \"Bronze Medal\"\n",
    "        else:\n",
    "            ranks[j] = str(i+1)\n",
    "    return [ranks[j] for j in scores]\n",
    "\n",
    "scores = [5,4,3,2,1]\n",
    "print(findRelativeRanks(scores))"
   ]
  },
  {
   "cell_type": "markdown",
   "id": "5732835e",
   "metadata": {},
   "source": [
    "### f. Fizz Buzz Problem "
   ]
  },
  {
   "cell_type": "code",
   "execution_count": 49,
   "id": "ae7bd4f5",
   "metadata": {},
   "outputs": [
    {
     "name": "stdout",
     "output_type": "stream",
     "text": [
      "['1', '2', 'Fizz', '4', 'Buzz', 'Fizz', '7', '8', 'Fizz', 'Buzz', '11', 'Fizz', '13', '14', 'FizzBuzz']\n"
     ]
    }
   ],
   "source": [
    "def fizzBuzz(n):\n",
    "    output = []\n",
    "    \n",
    "    for i in range(1, n + 1):\n",
    "        if(i % 3) == 0 and (i % 5) == 0:\n",
    "            output.append(\"FizzBuzz\")\n",
    "        elif i % 3 == 0:\n",
    "            output.append(\"Fizz\")\n",
    "        elif i % 5 == 0:\n",
    "            output.append(\"Buzz\")\n",
    "        else:\n",
    "            output.append(str(i))\n",
    "    return output\n",
    "\n",
    "print(fizzBuzz(15))"
   ]
  },
  {
   "cell_type": "code",
   "execution_count": null,
   "id": "52b3c31e",
   "metadata": {},
   "outputs": [],
   "source": []
  }
 ],
 "metadata": {
  "kernelspec": {
   "display_name": "Python 3 (ipykernel)",
   "language": "python",
   "name": "python3"
  },
  "language_info": {
   "codemirror_mode": {
    "name": "ipython",
    "version": 3
   },
   "file_extension": ".py",
   "mimetype": "text/x-python",
   "name": "python",
   "nbconvert_exporter": "python",
   "pygments_lexer": "ipython3",
   "version": "3.9.12"
  }
 },
 "nbformat": 4,
 "nbformat_minor": 5
}
